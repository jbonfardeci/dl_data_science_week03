{
 "cells": [
  {
   "cell_type": "markdown",
   "metadata": {},
   "source": [
    "# Logistic Regression with Diabetes Dataset\n",
    "John Bonfardeci\n",
    "2020-01-24"
   ]
  },
  {
   "cell_type": "markdown",
   "metadata": {},
   "source": [
    "## Import External Libraries"
   ]
  },
  {
   "cell_type": "code",
   "execution_count": 212,
   "metadata": {},
   "outputs": [],
   "source": [
    "# Import libraries\n",
    "import pandas as pd\n",
    "import numpy as np\n",
    "from sklearn.model_selection import train_test_split\n",
    "from sklearn.linear_model import LogisticRegression\n",
    "from sklearn.metrics import roc_auc_score\n",
    "from sklearn.metrics import roc_curve\n",
    "\n",
    "# Additional libs\n",
    "%matplotlib inline\n",
    "import matplotlib\n",
    "import matplotlib.pyplot as plt\n",
    "plt.style.use('ggplot')\n",
    "import seaborn as sns\n",
    "import os\n",
    "import statsmodels.api as sm\n",
    "from sklearn.model_selection import StratifiedKFold\n",
    "from scipy.stats import boxcox\n",
    "from scipy.special import boxcox1p # handles zeroes\n",
    "from sklearn.metrics import auc, confusion_matrix\n",
    "from sklearn.linear_model import Lasso, LassoCV\n",
    "from sklearn.feature_selection import RFE, SelectFromModel, SelectFpr\n",
    "from sklearn import preprocessing # variance scaling\n",
    "\n",
    "# John B's Stat Custom Utilities\n",
    "from StatUtilities import Utilities as u\n",
    "\n",
    "import math"
   ]
  },
  {
   "cell_type": "markdown",
   "metadata": {},
   "source": [
    "## Contansts & Global Vars"
   ]
  },
  {
   "cell_type": "code",
   "execution_count": 154,
   "metadata": {},
   "outputs": [],
   "source": [
    "FILE_PATH = 'diabetes.csv'\n",
    "TARGET = 'Diabetic'\n",
    "COLUMN_NAMES = ['Pregnancies','PlasmaGlucose','DiastolicBloodPressure', \\\n",
    "                 'TricepsThickness','SerumInsulin','BMI','DiabetesPedigree','Age']\n",
    "\n",
    "OUTPUT_DIR = ''\n",
    "df_raw = None # Pandas DataFrame for raw imported data.\n",
    "df = None # Pandas DataFrame to store our model data.\n",
    "df_coef = None # DataFrame to store predictor coefficients and p-values"
   ]
  },
  {
   "cell_type": "markdown",
   "metadata": {},
   "source": [
    "# SAMPLE"
   ]
  },
  {
   "cell_type": "code",
   "execution_count": 155,
   "metadata": {},
   "outputs": [],
   "source": [
    "def split_data(df, columns, target):  \n",
    "    # Separate features and labels\n",
    "    X, y = df[columns].values, df[target].values\n",
    "    # Split data into training set and test set\n",
    "    X_train, X_test, y_train, y_test = train_test_split(X, y, test_size=0.30, random_state=0)\n",
    "    return X_train, X_test, y_train, y_test\n",
    "    "
   ]
  },
  {
   "cell_type": "markdown",
   "metadata": {},
   "source": [
    "## Load the Dataset\n",
    "Features error checking for file exists."
   ]
  },
  {
   "cell_type": "code",
   "execution_count": 191,
   "metadata": {},
   "outputs": [
    {
     "data": {
      "text/html": [
       "<div>\n",
       "<style scoped>\n",
       "    .dataframe tbody tr th:only-of-type {\n",
       "        vertical-align: middle;\n",
       "    }\n",
       "\n",
       "    .dataframe tbody tr th {\n",
       "        vertical-align: top;\n",
       "    }\n",
       "\n",
       "    .dataframe thead th {\n",
       "        text-align: right;\n",
       "    }\n",
       "</style>\n",
       "<table border=\"1\" class=\"dataframe\">\n",
       "  <thead>\n",
       "    <tr style=\"text-align: right;\">\n",
       "      <th></th>\n",
       "      <th>Pregnancies</th>\n",
       "      <th>PlasmaGlucose</th>\n",
       "      <th>DiastolicBloodPressure</th>\n",
       "      <th>TricepsThickness</th>\n",
       "      <th>SerumInsulin</th>\n",
       "      <th>BMI</th>\n",
       "      <th>DiabetesPedigree</th>\n",
       "      <th>Age</th>\n",
       "      <th>Diabetic</th>\n",
       "    </tr>\n",
       "  </thead>\n",
       "  <tbody>\n",
       "    <tr>\n",
       "      <th>count</th>\n",
       "      <td>10000.00000</td>\n",
       "      <td>10000.000000</td>\n",
       "      <td>10000.000000</td>\n",
       "      <td>10000.00000</td>\n",
       "      <td>10000.000000</td>\n",
       "      <td>10000.000000</td>\n",
       "      <td>10000.000000</td>\n",
       "      <td>10000.000000</td>\n",
       "      <td>10000.000000</td>\n",
       "    </tr>\n",
       "    <tr>\n",
       "      <th>mean</th>\n",
       "      <td>3.25580</td>\n",
       "      <td>107.850200</td>\n",
       "      <td>71.207500</td>\n",
       "      <td>28.81760</td>\n",
       "      <td>139.243600</td>\n",
       "      <td>31.567022</td>\n",
       "      <td>0.400944</td>\n",
       "      <td>30.134100</td>\n",
       "      <td>0.334400</td>\n",
       "    </tr>\n",
       "    <tr>\n",
       "      <th>std</th>\n",
       "      <td>3.40572</td>\n",
       "      <td>31.920909</td>\n",
       "      <td>16.801478</td>\n",
       "      <td>14.50648</td>\n",
       "      <td>133.777919</td>\n",
       "      <td>9.804366</td>\n",
       "      <td>0.381463</td>\n",
       "      <td>12.106047</td>\n",
       "      <td>0.471804</td>\n",
       "    </tr>\n",
       "    <tr>\n",
       "      <th>min</th>\n",
       "      <td>0.00000</td>\n",
       "      <td>44.000000</td>\n",
       "      <td>24.000000</td>\n",
       "      <td>7.00000</td>\n",
       "      <td>14.000000</td>\n",
       "      <td>18.200807</td>\n",
       "      <td>0.078044</td>\n",
       "      <td>21.000000</td>\n",
       "      <td>0.000000</td>\n",
       "    </tr>\n",
       "    <tr>\n",
       "      <th>25%</th>\n",
       "      <td>0.00000</td>\n",
       "      <td>84.000000</td>\n",
       "      <td>58.000000</td>\n",
       "      <td>15.00000</td>\n",
       "      <td>39.000000</td>\n",
       "      <td>21.247427</td>\n",
       "      <td>0.137065</td>\n",
       "      <td>22.000000</td>\n",
       "      <td>0.000000</td>\n",
       "    </tr>\n",
       "    <tr>\n",
       "      <th>50%</th>\n",
       "      <td>2.00000</td>\n",
       "      <td>105.000000</td>\n",
       "      <td>72.000000</td>\n",
       "      <td>31.00000</td>\n",
       "      <td>85.000000</td>\n",
       "      <td>31.922421</td>\n",
       "      <td>0.199698</td>\n",
       "      <td>24.000000</td>\n",
       "      <td>0.000000</td>\n",
       "    </tr>\n",
       "    <tr>\n",
       "      <th>75%</th>\n",
       "      <td>6.00000</td>\n",
       "      <td>129.000000</td>\n",
       "      <td>85.000000</td>\n",
       "      <td>41.00000</td>\n",
       "      <td>197.000000</td>\n",
       "      <td>39.328921</td>\n",
       "      <td>0.621158</td>\n",
       "      <td>35.000000</td>\n",
       "      <td>1.000000</td>\n",
       "    </tr>\n",
       "    <tr>\n",
       "      <th>max</th>\n",
       "      <td>14.00000</td>\n",
       "      <td>192.000000</td>\n",
       "      <td>117.000000</td>\n",
       "      <td>92.00000</td>\n",
       "      <td>796.000000</td>\n",
       "      <td>56.034628</td>\n",
       "      <td>2.301594</td>\n",
       "      <td>77.000000</td>\n",
       "      <td>1.000000</td>\n",
       "    </tr>\n",
       "  </tbody>\n",
       "</table>\n",
       "</div>"
      ],
      "text/plain": [
       "       Pregnancies  PlasmaGlucose  DiastolicBloodPressure  TricepsThickness  \\\n",
       "count  10000.00000   10000.000000            10000.000000       10000.00000   \n",
       "mean       3.25580     107.850200               71.207500          28.81760   \n",
       "std        3.40572      31.920909               16.801478          14.50648   \n",
       "min        0.00000      44.000000               24.000000           7.00000   \n",
       "25%        0.00000      84.000000               58.000000          15.00000   \n",
       "50%        2.00000     105.000000               72.000000          31.00000   \n",
       "75%        6.00000     129.000000               85.000000          41.00000   \n",
       "max       14.00000     192.000000              117.000000          92.00000   \n",
       "\n",
       "       SerumInsulin           BMI  DiabetesPedigree           Age  \\\n",
       "count  10000.000000  10000.000000      10000.000000  10000.000000   \n",
       "mean     139.243600     31.567022          0.400944     30.134100   \n",
       "std      133.777919      9.804366          0.381463     12.106047   \n",
       "min       14.000000     18.200807          0.078044     21.000000   \n",
       "25%       39.000000     21.247427          0.137065     22.000000   \n",
       "50%       85.000000     31.922421          0.199698     24.000000   \n",
       "75%      197.000000     39.328921          0.621158     35.000000   \n",
       "max      796.000000     56.034628          2.301594     77.000000   \n",
       "\n",
       "           Diabetic  \n",
       "count  10000.000000  \n",
       "mean       0.334400  \n",
       "std        0.471804  \n",
       "min        0.000000  \n",
       "25%        0.000000  \n",
       "50%        0.000000  \n",
       "75%        1.000000  \n",
       "max        1.000000  "
      ]
     },
     "metadata": {},
     "output_type": "display_data"
    }
   ],
   "source": [
    "# Import data and display a summary table.\n",
    "def import_data(file_path):\n",
    "    \"\"\"\n",
    "    Import a CSV file to a Pandas dataframe.\n",
    "    @param file_path <string>\n",
    "    @return Pandas Dataframe\n",
    "    \"\"\"\n",
    "    try:\n",
    "        if not os.path.exists(file_path):\n",
    "            print('Invalid file path!')\n",
    "            return None\n",
    "\n",
    "        df = pd.read_csv(file_path) # returns new Pandas DataFrame \n",
    "        return df\n",
    "    except IOError:\n",
    "        print('Error reading file ' + file_path)\n",
    "        return None\n",
    "\n",
    "if __name__ == '__main__':\n",
    "    df_raw = import_data(FILE_PATH)\n",
    "    # Drop the ID column\n",
    "    df_raw = df_raw.drop('PatientID', 1).dropna()\n",
    "    display(df_raw.describe())"
   ]
  },
  {
   "cell_type": "markdown",
   "metadata": {},
   "source": [
    "# EXPLORE"
   ]
  },
  {
   "cell_type": "markdown",
   "metadata": {},
   "source": [
    "## Univariate Analysis"
   ]
  },
  {
   "cell_type": "code",
   "execution_count": 192,
   "metadata": {},
   "outputs": [
    {
     "data": {
      "image/png": "[encoded data removed]",
      "text/plain": [
       "<Figure size 432x288 with 1 Axes>"
      ]
     },
     "metadata": {},
     "output_type": "display_data"
    },
    {
     "data": {
      "image/png": "[encoded data removed]",
      "text/plain": [
       "<Figure size 432x288 with 1 Axes>"
      ]
     },
     "metadata": {},
     "output_type": "display_data"
    },
    {
     "data": {
      "image/png": "[encoded data removed]",
      "text/plain": [
       "<Figure size 432x288 with 1 Axes>"
      ]
     },
     "metadata": {},
     "output_type": "display_data"
    },
    {
     "data": {
      "image/png": "[encoded data removed]",
      "text/plain": [
       "<Figure size 432x288 with 1 Axes>"
      ]
     },
     "metadata": {},
     "output_type": "display_data"
    },
    {
     "data": {
      "image/png": "[encoded data removed]",
      "text/plain": [
       "<Figure size 432x288 with 1 Axes>"
      ]
     },
     "metadata": {},
     "output_type": "display_data"
    },
    {
     "data": {
      "image/png": "[encoded data removed]",
      "text/plain": [
       "<Figure size 432x288 with 1 Axes>"
      ]
     },
     "metadata": {},
     "output_type": "display_data"
    },
    {
     "data": {
      "image/png": "[encoded data removed]",
      "text/plain": [
       "<Figure size 432x288 with 1 Axes>"
      ]
     },
     "metadata": {},
     "output_type": "display_data"
    },
    {
     "data": {
      "image/png": "[encoded data removed]",
      "text/plain": [
       "<Figure size 432x288 with 1 Axes>"
      ]
     },
     "metadata": {},
     "output_type": "display_data"
    },
    {
     "data": {
      "image/png": "[encoded data removed]",
      "text/plain": [
       "<Figure size 432x288 with 1 Axes>"
      ]
     },
     "metadata": {},
     "output_type": "display_data"
    }
   ],
   "source": [
    "def get_hist(df):\n",
    "    \"\"\"\n",
    "    Create histograms for each variable in a Pandas DataFrame.\n",
    "    \"\"\"\n",
    "    tmp = pd.DataFrame()\n",
    "    if type(df) != type(tmp):\n",
    "        print(\"Parameter 'df' must be of type DataFrame.\")\n",
    "        return\n",
    "\n",
    "    for col in df.columns:\n",
    "        ax = df[col].hist()\n",
    "        ax.set_title(col)\n",
    "        plt.show()\n",
    "\n",
    "if __name__ == '__main__':\n",
    "    get_hist(df_raw)"
   ]
  },
  {
   "cell_type": "markdown",
   "metadata": {},
   "source": [
    "## Multivariate Analysis"
   ]
  },
  {
   "cell_type": "code",
   "execution_count": 193,
   "metadata": {},
   "outputs": [
    {
     "name": "stdout",
     "output_type": "stream",
     "text": [
      "Populating the interactive namespace from numpy and matplotlib\n"
     ]
    },
    {
     "data": {
      "image/png": "[encoded data removed]",
      "text/plain": [
       "<Figure size 720x720 with 2 Axes>"
      ]
     },
     "metadata": {
      "needs_background": "light"
     },
     "output_type": "display_data"
    }
   ],
   "source": [
    "def get_corrs(df):\n",
    "    #Compute Percentage Change\n",
    "    rets = df.pct_change()\n",
    "\n",
    "    #Compute Correlation\n",
    "    corr = rets.corr()\n",
    "\n",
    "    #Plot Correlation Matrix using Matplotlib\n",
    "    %pylab inline\n",
    "    plt.figure(figsize=(10, 10))\n",
    "    plt.imshow(corr, cmap='Dark2', interpolation='none', aspect='auto') \n",
    "    plt.colorbar()\n",
    "    plt.xticks(range(len(corr)), corr.columns, rotation='vertical')\n",
    "    plt.yticks(range(len(corr)), corr.columns);\n",
    "    plt.suptitle('Diabetes Correlations Heat Map', fontsize=15, fontweight='bold')\n",
    "    plt.show()\n",
    "    \n",
    "if __name__ == '__main__':\n",
    "    get_corrs(df_raw)"
   ]
  },
  {
   "cell_type": "markdown",
   "metadata": {},
   "source": [
    "<strong>Colormap values:</strong> Accent, Accent_r, Blues, Blues_r, BrBG, BrBG_r, BuGn, BuGn_r, BuPu, BuPu_r, CMRmap, CMRmap_r, Dark2, Dark2_r, GnBu, GnBu_r, Greens, Greens_r, Greys, Greys_r, OrRd, OrRd_r, Oranges, Oranges_r, PRGn, PRGn_r, Paired, Paired_r, Pastel1, Pastel1_r, Pastel2, Pastel2_r, PiYG, PiYG_r, PuBu, PuBuGn, PuBuGn_r, PuBu_r, PuOr, PuOr_r, PuRd, PuRd_r, Purples, Purples_r, RdBu, RdBu_r, RdGy, RdGy_r, RdPu, RdPu_r, RdYlBu, RdYlBu_r, RdYlGn, RdYlGn_r, Reds, Reds_r, Set1, Set1_r, Set2, Set2_r, Set3, Set3_r, Spectral, Spectral_r, Wistia, Wistia_r, YlGn, YlGnBu, YlGnBu_r, YlGn_r, YlOrBr, YlOrBr_r, YlOrRd, YlOrRd_r, afmhot, afmhot_r, autumn, autumn_r, binary, binary_r, bone, bone_r, brg, brg_r, bwr, bwr_r, cividis, cividis_r, cool, cool_r, coolwarm, coolwarm_r, copper, copper_r, cubehelix, cubehelix_r, flag, flag_r, gist_earth, gist_earth_r, gist_gray, gist_gray_r, gist_heat, gist_heat_r, gist_ncar, gist_ncar_r, gist_rainbow, gist_rainbow_r, gist_stern, gist_stern_r, gist_yarg, gist_yarg_r, gnuplot, gnuplot2, gnuplot2_r, gnuplot_r, gray, gray_r, hot, hot_r, hsv, hsv_r, icefire, icefire_r, inferno, inferno_r, jet, jet_r, magma, magma_r, mako, mako_r, nipy_spectral, nipy_spectral_r, ocean, ocean_r, pink, pink_r, plasma, plasma_r, prism, prism_r, rainbow, rainbow_r, rocket, rocket_r, seismic, seismic_r, spring, spring_r, summer, summer_r, tab10, tab10_r, tab20, tab20_r, tab20b, tab20b_r, tab20c, tab20c_r, terrain, terrain_r, twilight, twilight_r, twilight_shifted, twilight_shifted_r, viridis, viridis_r, vlag, vlag_r, winter, winter_r"
   ]
  },
  {
   "cell_type": "markdown",
   "metadata": {},
   "source": [
    "## Get Estmimates Coefficients and P-values"
   ]
  },
  {
   "cell_type": "code",
   "execution_count": 194,
   "metadata": {},
   "outputs": [
    {
     "data": {
      "text/html": [
       "<div>\n",
       "<style scoped>\n",
       "    .dataframe tbody tr th:only-of-type {\n",
       "        vertical-align: middle;\n",
       "    }\n",
       "\n",
       "    .dataframe tbody tr th {\n",
       "        vertical-align: top;\n",
       "    }\n",
       "\n",
       "    .dataframe thead th {\n",
       "        text-align: right;\n",
       "    }\n",
       "</style>\n",
       "<table border=\"1\" class=\"dataframe\">\n",
       "  <thead>\n",
       "    <tr style=\"text-align: right;\">\n",
       "      <th></th>\n",
       "      <th>Predictor</th>\n",
       "      <th>Coef</th>\n",
       "      <th>Pvalue</th>\n",
       "    </tr>\n",
       "  </thead>\n",
       "  <tbody>\n",
       "    <tr>\n",
       "      <th>6</th>\n",
       "      <td>DiabetesPedigree</td>\n",
       "      <td>0.1193</td>\n",
       "      <td>0.000</td>\n",
       "    </tr>\n",
       "    <tr>\n",
       "      <th>0</th>\n",
       "      <td>Pregnancies</td>\n",
       "      <td>0.0450</td>\n",
       "      <td>0.000</td>\n",
       "    </tr>\n",
       "    <tr>\n",
       "      <th>7</th>\n",
       "      <td>Age</td>\n",
       "      <td>0.0084</td>\n",
       "      <td>0.000</td>\n",
       "    </tr>\n",
       "    <tr>\n",
       "      <th>5</th>\n",
       "      <td>BMI</td>\n",
       "      <td>0.0018</td>\n",
       "      <td>0.000</td>\n",
       "    </tr>\n",
       "    <tr>\n",
       "      <th>3</th>\n",
       "      <td>TricepsThickness</td>\n",
       "      <td>0.0012</td>\n",
       "      <td>0.000</td>\n",
       "    </tr>\n",
       "    <tr>\n",
       "      <th>4</th>\n",
       "      <td>SerumInsulin</td>\n",
       "      <td>0.0005</td>\n",
       "      <td>0.000</td>\n",
       "    </tr>\n",
       "    <tr>\n",
       "      <th>1</th>\n",
       "      <td>PlasmaGlucose</td>\n",
       "      <td>-0.0004</td>\n",
       "      <td>0.003</td>\n",
       "    </tr>\n",
       "    <tr>\n",
       "      <th>2</th>\n",
       "      <td>DiastolicBloodPressure</td>\n",
       "      <td>-0.0030</td>\n",
       "      <td>0.000</td>\n",
       "    </tr>\n",
       "  </tbody>\n",
       "</table>\n",
       "</div>"
      ],
      "text/plain": [
       "                Predictor    Coef  Pvalue\n",
       "6        DiabetesPedigree  0.1193   0.000\n",
       "0             Pregnancies  0.0450   0.000\n",
       "7                     Age  0.0084   0.000\n",
       "5                     BMI  0.0018   0.000\n",
       "3        TricepsThickness  0.0012   0.000\n",
       "4            SerumInsulin  0.0005   0.000\n",
       "1           PlasmaGlucose -0.0004   0.003\n",
       "2  DiastolicBloodPressure -0.0030   0.000"
      ]
     },
     "metadata": {},
     "output_type": "display_data"
    },
    {
     "data": {
      "text/html": [
       "<table class=\"simpletable\">\n",
       "<caption>PValues</caption>\n",
       "<tr>\n",
       "  <th>Dep. Variable:</th>        <td>Diabetic</td>     <th>  R-squared (uncentered):</th>      <td>   0.528</td>\n",
       "</tr>\n",
       "<tr>\n",
       "  <th>Model:</th>                   <td>OLS</td>       <th>  Adj. R-squared (uncentered):</th> <td>   0.527</td>\n",
       "</tr>\n",
       "<tr>\n",
       "  <th>Method:</th>             <td>Least Squares</td>  <th>  F-statistic:       </th>          <td>   976.0</td>\n",
       "</tr>\n",
       "<tr>\n",
       "  <th>Date:</th>             <td>Fri, 24 Jan 2020</td> <th>  Prob (F-statistic):</th>           <td>  0.00</td> \n",
       "</tr>\n",
       "<tr>\n",
       "  <th>Time:</th>                 <td>12:55:33</td>     <th>  Log-Likelihood:    </th>          <td> -3463.8</td>\n",
       "</tr>\n",
       "<tr>\n",
       "  <th>No. Observations:</th>      <td>  7000</td>      <th>  AIC:               </th>          <td>   6944.</td>\n",
       "</tr>\n",
       "<tr>\n",
       "  <th>Df Residuals:</th>          <td>  6992</td>      <th>  BIC:               </th>          <td>   6999.</td>\n",
       "</tr>\n",
       "<tr>\n",
       "  <th>Df Model:</th>              <td>     8</td>      <th>                     </th>              <td> </td>   \n",
       "</tr>\n",
       "<tr>\n",
       "  <th>Covariance Type:</th>      <td>nonrobust</td>    <th>                     </th>              <td> </td>   \n",
       "</tr>\n",
       "</table>\n",
       "<table class=\"simpletable\">\n",
       "<tr>\n",
       "             <td></td>               <th>coef</th>     <th>std err</th>      <th>t</th>      <th>P>|t|</th>  <th>[0.025</th>    <th>0.975]</th>  \n",
       "</tr>\n",
       "<tr>\n",
       "  <th>Pregnancies</th>            <td>    0.0450</td> <td>    0.001</td> <td>   31.311</td> <td> 0.000</td> <td>    0.042</td> <td>    0.048</td>\n",
       "</tr>\n",
       "<tr>\n",
       "  <th>PlasmaGlucose</th>          <td>   -0.0004</td> <td>    0.000</td> <td>   -2.967</td> <td> 0.003</td> <td>   -0.001</td> <td>   -0.000</td>\n",
       "</tr>\n",
       "<tr>\n",
       "  <th>DiastolicBloodPressure</th> <td>   -0.0030</td> <td>    0.000</td> <td>  -13.273</td> <td> 0.000</td> <td>   -0.003</td> <td>   -0.003</td>\n",
       "</tr>\n",
       "<tr>\n",
       "  <th>TricepsThickness</th>       <td>    0.0012</td> <td>    0.000</td> <td>    3.892</td> <td> 0.000</td> <td>    0.001</td> <td>    0.002</td>\n",
       "</tr>\n",
       "<tr>\n",
       "  <th>SerumInsulin</th>           <td>    0.0005</td> <td> 3.58e-05</td> <td>   14.204</td> <td> 0.000</td> <td>    0.000</td> <td>    0.001</td>\n",
       "</tr>\n",
       "<tr>\n",
       "  <th>BMI</th>                    <td>    0.0018</td> <td>    0.000</td> <td>    4.090</td> <td> 0.000</td> <td>    0.001</td> <td>    0.003</td>\n",
       "</tr>\n",
       "<tr>\n",
       "  <th>DiabetesPedigree</th>       <td>    0.1193</td> <td>    0.013</td> <td>    9.511</td> <td> 0.000</td> <td>    0.095</td> <td>    0.144</td>\n",
       "</tr>\n",
       "<tr>\n",
       "  <th>Age</th>                    <td>    0.0084</td> <td>    0.000</td> <td>   21.799</td> <td> 0.000</td> <td>    0.008</td> <td>    0.009</td>\n",
       "</tr>\n",
       "</table>\n",
       "<table class=\"simpletable\">\n",
       "<tr>\n",
       "  <th>Omnibus:</th>       <td>638.711</td> <th>  Durbin-Watson:     </th> <td>   2.017</td>\n",
       "</tr>\n",
       "<tr>\n",
       "  <th>Prob(Omnibus):</th> <td> 0.000</td>  <th>  Jarque-Bera (JB):  </th> <td> 390.310</td>\n",
       "</tr>\n",
       "<tr>\n",
       "  <th>Skew:</th>          <td> 0.449</td>  <th>  Prob(JB):          </th> <td>1.76e-85</td>\n",
       "</tr>\n",
       "<tr>\n",
       "  <th>Kurtosis:</th>      <td> 2.270</td>  <th>  Cond. No.          </th> <td>    592.</td>\n",
       "</tr>\n",
       "</table><br/><br/>Warnings:<br/>[1] Standard Errors assume that the covariance matrix of the errors is correctly specified."
      ],
      "text/plain": [
       "<class 'statsmodels.iolib.summary.Summary'>\n",
       "\"\"\"\n",
       "                                        PValues                                        \n",
       "=======================================================================================\n",
       "Dep. Variable:               Diabetic   R-squared (uncentered):                   0.528\n",
       "Model:                            OLS   Adj. R-squared (uncentered):              0.527\n",
       "Method:                 Least Squares   F-statistic:                              976.0\n",
       "Date:                Fri, 24 Jan 2020   Prob (F-statistic):                        0.00\n",
       "Time:                        12:55:33   Log-Likelihood:                         -3463.8\n",
       "No. Observations:                7000   AIC:                                      6944.\n",
       "Df Residuals:                    6992   BIC:                                      6999.\n",
       "Df Model:                           8                                                  \n",
       "Covariance Type:            nonrobust                                                  \n",
       "==========================================================================================\n",
       "                             coef    std err          t      P>|t|      [0.025      0.975]\n",
       "------------------------------------------------------------------------------------------\n",
       "Pregnancies                0.0450      0.001     31.311      0.000       0.042       0.048\n",
       "PlasmaGlucose             -0.0004      0.000     -2.967      0.003      -0.001      -0.000\n",
       "DiastolicBloodPressure    -0.0030      0.000    -13.273      0.000      -0.003      -0.003\n",
       "TricepsThickness           0.0012      0.000      3.892      0.000       0.001       0.002\n",
       "SerumInsulin               0.0005   3.58e-05     14.204      0.000       0.000       0.001\n",
       "BMI                        0.0018      0.000      4.090      0.000       0.001       0.003\n",
       "DiabetesPedigree           0.1193      0.013      9.511      0.000       0.095       0.144\n",
       "Age                        0.0084      0.000     21.799      0.000       0.008       0.009\n",
       "==============================================================================\n",
       "Omnibus:                      638.711   Durbin-Watson:                   2.017\n",
       "Prob(Omnibus):                  0.000   Jarque-Bera (JB):              390.310\n",
       "Skew:                           0.449   Prob(JB):                     1.76e-85\n",
       "Kurtosis:                       2.270   Cond. No.                         592.\n",
       "==============================================================================\n",
       "\n",
       "Warnings:\n",
       "[1] Standard Errors assume that the covariance matrix of the errors is correctly specified.\n",
       "\"\"\""
      ]
     },
     "metadata": {},
     "output_type": "display_data"
    }
   ],
   "source": [
    "def get_var_estimates(target_name, y, X, columns):\n",
    "    \"\"\"\n",
    "    Show OLS parameter estimates for the model.\n",
    "    Ref: http://statsmodels.sourceforge.net/devel/generated/statsmodels.regression.linear_model.RegressionResults.html\n",
    "    http://statsmodels.sourceforge.net/devel/examples/generated/example_ols.html\n",
    "    @param target_name <string>\n",
    "    @param y <list>\n",
    "    @param X <Pandas Dataframe>\n",
    "    @param columns <list>\n",
    "    @returns Statsmodel summary\n",
    "    \"\"\"\n",
    "    model = sm.OLS(y, X)\n",
    "    results = model.fit()\n",
    "    summary = results.summary(yname=target_name, xname=columns, title='PValues', alpha=0.05)\n",
    "    \n",
    "    # Build dataframe to store coeffients and p-values.\n",
    "    predictors = []\n",
    "    for row in summary.tables[1].data:\n",
    "        try:\n",
    "            pvalue = float(row[4])\n",
    "            if pvalue <= 0.05:\n",
    "                col = row[0]\n",
    "                coef = float(row[1])\n",
    "                #if pvalue <= 0.05:\n",
    "                predictors.append([col, coef, pvalue])\n",
    "        except:\n",
    "            continue\n",
    "        \n",
    "    df_coef = pd.DataFrame(data=predictors, columns=['Predictor', 'Coef', 'Pvalue'])\n",
    "    df_coef = df_coef.sort_values('Coef', ascending=False)  \n",
    "    display(df_coef)\n",
    "      \n",
    "    return summary, df_coef\n",
    "    \n",
    "if __name__ == '__main__':\n",
    "    X_train, X_test, y_train, y_test = split_data(df_raw, COLUMN_NAMES, TARGET)\n",
    "    summary, df_coef = get_var_estimates(target_name=TARGET, y=y_train, X=X_train, columns=COLUMN_NAMES)\n",
    "    display(summary)\n",
    "    "
   ]
  },
  {
   "cell_type": "code",
   "execution_count": 195,
   "metadata": {},
   "outputs": [
    {
     "data": {
      "image/png": "[encoded data removed]",
      "text/plain": [
       "<Figure size 432x288 with 1 Axes>"
      ]
     },
     "metadata": {
      "needs_background": "light"
     },
     "output_type": "display_data"
    }
   ],
   "source": [
    "ax = sns.barplot(y=\"Predictor\", x=\"Coef\", data=df_coef)"
   ]
  },
  {
   "cell_type": "markdown",
   "metadata": {},
   "source": [
    "# MODIFY"
   ]
  },
  {
   "cell_type": "markdown",
   "metadata": {},
   "source": [
    "## LASSO feature selection"
   ]
  },
  {
   "cell_type": "code",
   "execution_count": 196,
   "metadata": {
    "scrolled": true
   },
   "outputs": [
    {
     "name": "stdout",
     "output_type": "stream",
     "text": [
      "Selected significant variables are:\r\n",
      " Pregnancies, PlasmaGlucose, DiastolicBloodPressure, TricepsThickness, SerumInsulin, BMI, DiabetesPedigree, Age\n",
      "\r\n",
      "Dropped insignificant vars:  Diabetic\n"
     ]
    },
    {
     "data": {
      "text/html": [
       "<div>\n",
       "<style scoped>\n",
       "    .dataframe tbody tr th:only-of-type {\n",
       "        vertical-align: middle;\n",
       "    }\n",
       "\n",
       "    .dataframe tbody tr th {\n",
       "        vertical-align: top;\n",
       "    }\n",
       "\n",
       "    .dataframe thead th {\n",
       "        text-align: right;\n",
       "    }\n",
       "</style>\n",
       "<table border=\"1\" class=\"dataframe\">\n",
       "  <thead>\n",
       "    <tr style=\"text-align: right;\">\n",
       "      <th></th>\n",
       "      <th>Pregnancies</th>\n",
       "      <th>PlasmaGlucose</th>\n",
       "      <th>DiastolicBloodPressure</th>\n",
       "      <th>TricepsThickness</th>\n",
       "      <th>SerumInsulin</th>\n",
       "      <th>BMI</th>\n",
       "      <th>DiabetesPedigree</th>\n",
       "      <th>Age</th>\n",
       "    </tr>\n",
       "  </thead>\n",
       "  <tbody>\n",
       "    <tr>\n",
       "      <th>count</th>\n",
       "      <td>10000.00000</td>\n",
       "      <td>10000.000000</td>\n",
       "      <td>10000.000000</td>\n",
       "      <td>10000.00000</td>\n",
       "      <td>10000.000000</td>\n",
       "      <td>10000.000000</td>\n",
       "      <td>10000.000000</td>\n",
       "      <td>10000.000000</td>\n",
       "    </tr>\n",
       "    <tr>\n",
       "      <th>mean</th>\n",
       "      <td>3.25580</td>\n",
       "      <td>107.850200</td>\n",
       "      <td>71.207500</td>\n",
       "      <td>28.81760</td>\n",
       "      <td>139.243600</td>\n",
       "      <td>31.567022</td>\n",
       "      <td>0.400944</td>\n",
       "      <td>30.134100</td>\n",
       "    </tr>\n",
       "    <tr>\n",
       "      <th>std</th>\n",
       "      <td>3.40572</td>\n",
       "      <td>31.920909</td>\n",
       "      <td>16.801478</td>\n",
       "      <td>14.50648</td>\n",
       "      <td>133.777919</td>\n",
       "      <td>9.804366</td>\n",
       "      <td>0.381463</td>\n",
       "      <td>12.106047</td>\n",
       "    </tr>\n",
       "    <tr>\n",
       "      <th>min</th>\n",
       "      <td>0.00000</td>\n",
       "      <td>44.000000</td>\n",
       "      <td>24.000000</td>\n",
       "      <td>7.00000</td>\n",
       "      <td>14.000000</td>\n",
       "      <td>18.200807</td>\n",
       "      <td>0.078044</td>\n",
       "      <td>21.000000</td>\n",
       "    </tr>\n",
       "    <tr>\n",
       "      <th>25%</th>\n",
       "      <td>0.00000</td>\n",
       "      <td>84.000000</td>\n",
       "      <td>58.000000</td>\n",
       "      <td>15.00000</td>\n",
       "      <td>39.000000</td>\n",
       "      <td>21.247427</td>\n",
       "      <td>0.137065</td>\n",
       "      <td>22.000000</td>\n",
       "    </tr>\n",
       "    <tr>\n",
       "      <th>50%</th>\n",
       "      <td>2.00000</td>\n",
       "      <td>105.000000</td>\n",
       "      <td>72.000000</td>\n",
       "      <td>31.00000</td>\n",
       "      <td>85.000000</td>\n",
       "      <td>31.922421</td>\n",
       "      <td>0.199698</td>\n",
       "      <td>24.000000</td>\n",
       "    </tr>\n",
       "    <tr>\n",
       "      <th>75%</th>\n",
       "      <td>6.00000</td>\n",
       "      <td>129.000000</td>\n",
       "      <td>85.000000</td>\n",
       "      <td>41.00000</td>\n",
       "      <td>197.000000</td>\n",
       "      <td>39.328921</td>\n",
       "      <td>0.621158</td>\n",
       "      <td>35.000000</td>\n",
       "    </tr>\n",
       "    <tr>\n",
       "      <th>max</th>\n",
       "      <td>14.00000</td>\n",
       "      <td>192.000000</td>\n",
       "      <td>117.000000</td>\n",
       "      <td>92.00000</td>\n",
       "      <td>796.000000</td>\n",
       "      <td>56.034628</td>\n",
       "      <td>2.301594</td>\n",
       "      <td>77.000000</td>\n",
       "    </tr>\n",
       "  </tbody>\n",
       "</table>\n",
       "</div>"
      ],
      "text/plain": [
       "       Pregnancies  PlasmaGlucose  DiastolicBloodPressure  TricepsThickness  \\\n",
       "count  10000.00000   10000.000000            10000.000000       10000.00000   \n",
       "mean       3.25580     107.850200               71.207500          28.81760   \n",
       "std        3.40572      31.920909               16.801478          14.50648   \n",
       "min        0.00000      44.000000               24.000000           7.00000   \n",
       "25%        0.00000      84.000000               58.000000          15.00000   \n",
       "50%        2.00000     105.000000               72.000000          31.00000   \n",
       "75%        6.00000     129.000000               85.000000          41.00000   \n",
       "max       14.00000     192.000000              117.000000          92.00000   \n",
       "\n",
       "       SerumInsulin           BMI  DiabetesPedigree           Age  \n",
       "count  10000.000000  10000.000000      10000.000000  10000.000000  \n",
       "mean     139.243600     31.567022          0.400944     30.134100  \n",
       "std      133.777919      9.804366          0.381463     12.106047  \n",
       "min       14.000000     18.200807          0.078044     21.000000  \n",
       "25%       39.000000     21.247427          0.137065     22.000000  \n",
       "50%       85.000000     31.922421          0.199698     24.000000  \n",
       "75%      197.000000     39.328921          0.621158     35.000000  \n",
       "max      796.000000     56.034628          2.301594     77.000000  "
      ]
     },
     "metadata": {},
     "output_type": "display_data"
    },
    {
     "name": "stderr",
     "output_type": "stream",
     "text": [
      "C:\\Users\\bonfardeci-j\\.conda\\envs\\python37\\lib\\site-packages\\ipykernel_launcher.py:8: FutureWarning: Method .as_matrix will be removed in a future version. Use .values instead.\n",
      "  \n"
     ]
    }
   ],
   "source": [
    "if __name__ == '__main__':\n",
    "    X_train, X_test, y_train, y_test = split_data(df_raw, COLUMN_NAMES, TARGET)\n",
    "    significant_features = u.get_lasso_selection(X_train, y_train, COLUMN_NAMES)\n",
    "    print('Selected significant variables are:\\r\\n', ', '.join(significant_features))\n",
    "\n",
    "    df = u.remove_insignificant_vars(significant_features, df_raw.copy())\n",
    "    display(df.describe())\n",
    "    X = df.as_matrix() \n",
    "    columns = df.columns.tolist()\n",
    "    #get_hist(df)"
   ]
  },
  {
   "cell_type": "code",
   "execution_count": 203,
   "metadata": {},
   "outputs": [
    {
     "data": {
      "image/png": "[encoded data removed]",
      "text/plain": [
       "<Figure size 432x288 with 1 Axes>"
      ]
     },
     "metadata": {
      "needs_background": "light"
     },
     "output_type": "display_data"
    },
    {
     "data": {
      "image/png": "[encoded data removed]",
      "text/plain": [
       "<Figure size 432x288 with 1 Axes>"
      ]
     },
     "metadata": {
      "needs_background": "light"
     },
     "output_type": "display_data"
    },
    {
     "data": {
      "image/png": "[encoded data removed]",
      "text/plain": [
       "<Figure size 432x288 with 1 Axes>"
      ]
     },
     "metadata": {
      "needs_background": "light"
     },
     "output_type": "display_data"
    },
    {
     "data": {
      "image/png": "[encoded data removed]",
      "text/plain": [
       "<Figure size 432x288 with 1 Axes>"
      ]
     },
     "metadata": {
      "needs_background": "light"
     },
     "output_type": "display_data"
    },
    {
     "data": {
      "image/png": "[encoded data removed]",
      "text/plain": [
       "<Figure size 432x288 with 1 Axes>"
      ]
     },
     "metadata": {
      "needs_background": "light"
     },
     "output_type": "display_data"
    },
    {
     "data": {
      "image/png": "[encoded data removed]",
      "text/plain": [
       "<Figure size 432x288 with 1 Axes>"
      ]
     },
     "metadata": {
      "needs_background": "light"
     },
     "output_type": "display_data"
    },
    {
     "data": {
      "image/png": "[encoded data removed]",
      "text/plain": [
       "<Figure size 432x288 with 1 Axes>"
      ]
     },
     "metadata": {
      "needs_background": "light"
     },
     "output_type": "display_data"
    },
    {
     "data": {
      "image/png": "[encoded data removed]",
      "text/plain": [
       "<Figure size 432x288 with 1 Axes>"
      ]
     },
     "metadata": {
      "needs_background": "light"
     },
     "output_type": "display_data"
    },
    {
     "data": {
      "image/png": "[encoded data removed]",
      "text/plain": [
       "<Figure size 432x288 with 1 Axes>"
      ]
     },
     "metadata": {
      "needs_background": "light"
     },
     "output_type": "display_data"
    }
   ],
   "source": [
    "tx = df_raw.copy()\n",
    "lmbda = 0.25\n",
    "#tx['BcxPregnancies'] = boxcox(tx['Pregnancies'], lmbda)\n",
    "tx['BcxPlasmaGlucose'] = boxcox(tx['PlasmaGlucose'], lmbda)\n",
    "tx['BcxTricepsThickness'] = boxcox(tx['TricepsThickness'], lmbda)\n",
    "tx['BcxSerumInsulin'] = boxcox(tx['SerumInsulin'], lmbda)\n",
    "#tx['BcxBMI'] = boxcox(tx['BMI'], lmbda)\n",
    "#tx['BcxDiabetesPedigree'] = boxcox(tx['DiabetesPedigree'], lmbda)\n",
    "#tx['BcxAge'] = boxcox(tx['Age'], lmbda)\n",
    "\n",
    "tx = tx.drop('PlasmaGlucose', 1).drop('TricepsThickness', 1).drop('SerumInsulin', 1)\n",
    "get_hist(tx)"
   ]
  },
  {
   "cell_type": "code",
   "execution_count": 204,
   "metadata": {},
   "outputs": [
    {
     "data": {
      "text/html": [
       "<div>\n",
       "<style scoped>\n",
       "    .dataframe tbody tr th:only-of-type {\n",
       "        vertical-align: middle;\n",
       "    }\n",
       "\n",
       "    .dataframe tbody tr th {\n",
       "        vertical-align: top;\n",
       "    }\n",
       "\n",
       "    .dataframe thead th {\n",
       "        text-align: right;\n",
       "    }\n",
       "</style>\n",
       "<table border=\"1\" class=\"dataframe\">\n",
       "  <thead>\n",
       "    <tr style=\"text-align: right;\">\n",
       "      <th></th>\n",
       "      <th>Pregnancies</th>\n",
       "      <th>DiastolicBloodPressure</th>\n",
       "      <th>BMI</th>\n",
       "      <th>DiabetesPedigree</th>\n",
       "      <th>Age</th>\n",
       "      <th>Diabetic</th>\n",
       "      <th>BcxPlasmaGlucose</th>\n",
       "      <th>BcxTricepsThickness</th>\n",
       "      <th>BcxSerumInsulin</th>\n",
       "    </tr>\n",
       "  </thead>\n",
       "  <tbody>\n",
       "    <tr>\n",
       "      <th>count</th>\n",
       "      <td>10000.00000</td>\n",
       "      <td>10000.000000</td>\n",
       "      <td>10000.000000</td>\n",
       "      <td>10000.000000</td>\n",
       "      <td>10000.000000</td>\n",
       "      <td>10000.000000</td>\n",
       "      <td>10000.000000</td>\n",
       "      <td>10000.000000</td>\n",
       "      <td>10000.000000</td>\n",
       "    </tr>\n",
       "    <tr>\n",
       "      <th>mean</th>\n",
       "      <td>3.25580</td>\n",
       "      <td>71.207500</td>\n",
       "      <td>31.567022</td>\n",
       "      <td>0.400944</td>\n",
       "      <td>30.134100</td>\n",
       "      <td>0.334400</td>\n",
       "      <td>8.781294</td>\n",
       "      <td>5.001549</td>\n",
       "      <td>8.651854</td>\n",
       "    </tr>\n",
       "    <tr>\n",
       "      <th>std</th>\n",
       "      <td>3.40572</td>\n",
       "      <td>16.801478</td>\n",
       "      <td>9.804366</td>\n",
       "      <td>0.381463</td>\n",
       "      <td>12.106047</td>\n",
       "      <td>0.471804</td>\n",
       "      <td>0.973048</td>\n",
       "      <td>1.314616</td>\n",
       "      <td>3.108370</td>\n",
       "    </tr>\n",
       "    <tr>\n",
       "      <th>min</th>\n",
       "      <td>0.00000</td>\n",
       "      <td>24.000000</td>\n",
       "      <td>18.200807</td>\n",
       "      <td>0.078044</td>\n",
       "      <td>21.000000</td>\n",
       "      <td>0.000000</td>\n",
       "      <td>6.302038</td>\n",
       "      <td>2.506306</td>\n",
       "      <td>3.737346</td>\n",
       "    </tr>\n",
       "    <tr>\n",
       "      <th>25%</th>\n",
       "      <td>0.00000</td>\n",
       "      <td>58.000000</td>\n",
       "      <td>21.247427</td>\n",
       "      <td>0.137065</td>\n",
       "      <td>22.000000</td>\n",
       "      <td>0.000000</td>\n",
       "      <td>8.109600</td>\n",
       "      <td>3.871959</td>\n",
       "      <td>5.995998</td>\n",
       "    </tr>\n",
       "    <tr>\n",
       "      <th>50%</th>\n",
       "      <td>2.00000</td>\n",
       "      <td>72.000000</td>\n",
       "      <td>31.922421</td>\n",
       "      <td>0.199698</td>\n",
       "      <td>24.000000</td>\n",
       "      <td>0.000000</td>\n",
       "      <td>8.804343</td>\n",
       "      <td>5.438444</td>\n",
       "      <td>8.145481</td>\n",
       "    </tr>\n",
       "    <tr>\n",
       "      <th>75%</th>\n",
       "      <td>6.00000</td>\n",
       "      <td>85.000000</td>\n",
       "      <td>39.328921</td>\n",
       "      <td>0.621158</td>\n",
       "      <td>35.000000</td>\n",
       "      <td>1.000000</td>\n",
       "      <td>9.480544</td>\n",
       "      <td>6.121758</td>\n",
       "      <td>10.985683</td>\n",
       "    </tr>\n",
       "    <tr>\n",
       "      <th>max</th>\n",
       "      <td>14.00000</td>\n",
       "      <td>117.000000</td>\n",
       "      <td>56.034628</td>\n",
       "      <td>2.301594</td>\n",
       "      <td>77.000000</td>\n",
       "      <td>1.000000</td>\n",
       "      <td>10.889678</td>\n",
       "      <td>8.388164</td>\n",
       "      <td>17.246542</td>\n",
       "    </tr>\n",
       "  </tbody>\n",
       "</table>\n",
       "</div>"
      ],
      "text/plain": [
       "       Pregnancies  DiastolicBloodPressure           BMI  DiabetesPedigree  \\\n",
       "count  10000.00000            10000.000000  10000.000000      10000.000000   \n",
       "mean       3.25580               71.207500     31.567022          0.400944   \n",
       "std        3.40572               16.801478      9.804366          0.381463   \n",
       "min        0.00000               24.000000     18.200807          0.078044   \n",
       "25%        0.00000               58.000000     21.247427          0.137065   \n",
       "50%        2.00000               72.000000     31.922421          0.199698   \n",
       "75%        6.00000               85.000000     39.328921          0.621158   \n",
       "max       14.00000              117.000000     56.034628          2.301594   \n",
       "\n",
       "                Age      Diabetic  BcxPlasmaGlucose  BcxTricepsThickness  \\\n",
       "count  10000.000000  10000.000000      10000.000000         10000.000000   \n",
       "mean      30.134100      0.334400          8.781294             5.001549   \n",
       "std       12.106047      0.471804          0.973048             1.314616   \n",
       "min       21.000000      0.000000          6.302038             2.506306   \n",
       "25%       22.000000      0.000000          8.109600             3.871959   \n",
       "50%       24.000000      0.000000          8.804343             5.438444   \n",
       "75%       35.000000      1.000000          9.480544             6.121758   \n",
       "max       77.000000      1.000000         10.889678             8.388164   \n",
       "\n",
       "       BcxSerumInsulin  \n",
       "count     10000.000000  \n",
       "mean          8.651854  \n",
       "std           3.108370  \n",
       "min           3.737346  \n",
       "25%           5.995998  \n",
       "50%           8.145481  \n",
       "75%          10.985683  \n",
       "max          17.246542  "
      ]
     },
     "execution_count": 204,
     "metadata": {},
     "output_type": "execute_result"
    }
   ],
   "source": [
    "tx.describe()"
   ]
  },
  {
   "cell_type": "code",
   "execution_count": 218,
   "metadata": {},
   "outputs": [
    {
     "data": {
      "text/html": [
       "<div>\n",
       "<style scoped>\n",
       "    .dataframe tbody tr th:only-of-type {\n",
       "        vertical-align: middle;\n",
       "    }\n",
       "\n",
       "    .dataframe tbody tr th {\n",
       "        vertical-align: top;\n",
       "    }\n",
       "\n",
       "    .dataframe thead th {\n",
       "        text-align: right;\n",
       "    }\n",
       "</style>\n",
       "<table border=\"1\" class=\"dataframe\">\n",
       "  <thead>\n",
       "    <tr style=\"text-align: right;\">\n",
       "      <th></th>\n",
       "      <th>Predictor</th>\n",
       "      <th>Coef</th>\n",
       "      <th>Pvalue</th>\n",
       "    </tr>\n",
       "  </thead>\n",
       "  <tbody>\n",
       "    <tr>\n",
       "      <th>3</th>\n",
       "      <td>TricepsThickness</td>\n",
       "      <td>0.1345</td>\n",
       "      <td>0.000</td>\n",
       "    </tr>\n",
       "    <tr>\n",
       "      <th>0</th>\n",
       "      <td>Pregnancies</td>\n",
       "      <td>0.0455</td>\n",
       "      <td>0.000</td>\n",
       "    </tr>\n",
       "    <tr>\n",
       "      <th>7</th>\n",
       "      <td>Age</td>\n",
       "      <td>0.0223</td>\n",
       "      <td>0.000</td>\n",
       "    </tr>\n",
       "    <tr>\n",
       "      <th>4</th>\n",
       "      <td>SerumInsulin</td>\n",
       "      <td>0.0097</td>\n",
       "      <td>0.000</td>\n",
       "    </tr>\n",
       "    <tr>\n",
       "      <th>6</th>\n",
       "      <td>DiabetesPedigree</td>\n",
       "      <td>0.0077</td>\n",
       "      <td>0.024</td>\n",
       "    </tr>\n",
       "    <tr>\n",
       "      <th>2</th>\n",
       "      <td>DiastolicBloodPressure</td>\n",
       "      <td>0.0040</td>\n",
       "      <td>0.000</td>\n",
       "    </tr>\n",
       "    <tr>\n",
       "      <th>1</th>\n",
       "      <td>PlasmaGlucose</td>\n",
       "      <td>-0.0013</td>\n",
       "      <td>0.000</td>\n",
       "    </tr>\n",
       "    <tr>\n",
       "      <th>5</th>\n",
       "      <td>BMI</td>\n",
       "      <td>-0.0468</td>\n",
       "      <td>0.000</td>\n",
       "    </tr>\n",
       "  </tbody>\n",
       "</table>\n",
       "</div>"
      ],
      "text/plain": [
       "                Predictor    Coef  Pvalue\n",
       "3        TricepsThickness  0.1345   0.000\n",
       "0             Pregnancies  0.0455   0.000\n",
       "7                     Age  0.0223   0.000\n",
       "4            SerumInsulin  0.0097   0.000\n",
       "6        DiabetesPedigree  0.0077   0.024\n",
       "2  DiastolicBloodPressure  0.0040   0.000\n",
       "1           PlasmaGlucose -0.0013   0.000\n",
       "5                     BMI -0.0468   0.000"
      ]
     },
     "metadata": {},
     "output_type": "display_data"
    },
    {
     "data": {
      "text/html": [
       "<table class=\"simpletable\">\n",
       "<caption>PValues</caption>\n",
       "<tr>\n",
       "  <th>Dep. Variable:</th>        <td>Diabetic</td>     <th>  R-squared (uncentered):</th>      <td>   0.536</td>\n",
       "</tr>\n",
       "<tr>\n",
       "  <th>Model:</th>                   <td>OLS</td>       <th>  Adj. R-squared (uncentered):</th> <td>   0.536</td>\n",
       "</tr>\n",
       "<tr>\n",
       "  <th>Method:</th>             <td>Least Squares</td>  <th>  F-statistic:       </th>          <td>   1011.</td>\n",
       "</tr>\n",
       "<tr>\n",
       "  <th>Date:</th>             <td>Fri, 24 Jan 2020</td> <th>  Prob (F-statistic):</th>           <td>  0.00</td> \n",
       "</tr>\n",
       "<tr>\n",
       "  <th>Time:</th>                 <td>15:17:07</td>     <th>  Log-Likelihood:    </th>          <td> -3397.6</td>\n",
       "</tr>\n",
       "<tr>\n",
       "  <th>No. Observations:</th>      <td>  7000</td>      <th>  AIC:               </th>          <td>   6811.</td>\n",
       "</tr>\n",
       "<tr>\n",
       "  <th>Df Residuals:</th>          <td>  6992</td>      <th>  BIC:               </th>          <td>   6866.</td>\n",
       "</tr>\n",
       "<tr>\n",
       "  <th>Df Model:</th>              <td>     8</td>      <th>                     </th>              <td> </td>   \n",
       "</tr>\n",
       "<tr>\n",
       "  <th>Covariance Type:</th>      <td>nonrobust</td>    <th>                     </th>              <td> </td>   \n",
       "</tr>\n",
       "</table>\n",
       "<table class=\"simpletable\">\n",
       "<tr>\n",
       "             <td></td>               <th>coef</th>     <th>std err</th>      <th>t</th>      <th>P>|t|</th>  <th>[0.025</th>    <th>0.975]</th>  \n",
       "</tr>\n",
       "<tr>\n",
       "  <th>Pregnancies</th>            <td>    0.0455</td> <td>    0.001</td> <td>   31.984</td> <td> 0.000</td> <td>    0.043</td> <td>    0.048</td>\n",
       "</tr>\n",
       "<tr>\n",
       "  <th>PlasmaGlucose</th>          <td>   -0.0013</td> <td>    0.000</td> <td>   -5.033</td> <td> 0.000</td> <td>   -0.002</td> <td>   -0.001</td>\n",
       "</tr>\n",
       "<tr>\n",
       "  <th>DiastolicBloodPressure</th> <td>    0.0040</td> <td>    0.000</td> <td>    8.541</td> <td> 0.000</td> <td>    0.003</td> <td>    0.005</td>\n",
       "</tr>\n",
       "<tr>\n",
       "  <th>TricepsThickness</th>       <td>    0.1345</td> <td>    0.012</td> <td>   10.776</td> <td> 0.000</td> <td>    0.110</td> <td>    0.159</td>\n",
       "</tr>\n",
       "<tr>\n",
       "  <th>SerumInsulin</th>           <td>    0.0097</td> <td>    0.000</td> <td>   24.563</td> <td> 0.000</td> <td>    0.009</td> <td>    0.010</td>\n",
       "</tr>\n",
       "<tr>\n",
       "  <th>BMI</th>                    <td>   -0.0468</td> <td>    0.003</td> <td>  -15.165</td> <td> 0.000</td> <td>   -0.053</td> <td>   -0.041</td>\n",
       "</tr>\n",
       "<tr>\n",
       "  <th>DiabetesPedigree</th>       <td>    0.0077</td> <td>    0.003</td> <td>    2.263</td> <td> 0.024</td> <td>    0.001</td> <td>    0.014</td>\n",
       "</tr>\n",
       "<tr>\n",
       "  <th>Age</th>                    <td>    0.0223</td> <td>    0.002</td> <td>   14.777</td> <td> 0.000</td> <td>    0.019</td> <td>    0.025</td>\n",
       "</tr>\n",
       "</table>\n",
       "<table class=\"simpletable\">\n",
       "<tr>\n",
       "  <th>Omnibus:</th>       <td>426.145</td> <th>  Durbin-Watson:     </th> <td>   2.020</td>\n",
       "</tr>\n",
       "<tr>\n",
       "  <th>Prob(Omnibus):</th> <td> 0.000</td>  <th>  Jarque-Bera (JB):  </th> <td> 304.988</td>\n",
       "</tr>\n",
       "<tr>\n",
       "  <th>Skew:</th>          <td> 0.408</td>  <th>  Prob(JB):          </th> <td>5.92e-67</td>\n",
       "</tr>\n",
       "<tr>\n",
       "  <th>Kurtosis:</th>      <td> 2.382</td>  <th>  Cond. No.          </th> <td>    228.</td>\n",
       "</tr>\n",
       "</table><br/><br/>Warnings:<br/>[1] Standard Errors assume that the covariance matrix of the errors is correctly specified."
      ],
      "text/plain": [
       "<class 'statsmodels.iolib.summary.Summary'>\n",
       "\"\"\"\n",
       "                                        PValues                                        \n",
       "=======================================================================================\n",
       "Dep. Variable:               Diabetic   R-squared (uncentered):                   0.536\n",
       "Model:                            OLS   Adj. R-squared (uncentered):              0.536\n",
       "Method:                 Least Squares   F-statistic:                              1011.\n",
       "Date:                Fri, 24 Jan 2020   Prob (F-statistic):                        0.00\n",
       "Time:                        15:17:07   Log-Likelihood:                         -3397.6\n",
       "No. Observations:                7000   AIC:                                      6811.\n",
       "Df Residuals:                    6992   BIC:                                      6866.\n",
       "Df Model:                           8                                                  \n",
       "Covariance Type:            nonrobust                                                  \n",
       "==========================================================================================\n",
       "                             coef    std err          t      P>|t|      [0.025      0.975]\n",
       "------------------------------------------------------------------------------------------\n",
       "Pregnancies                0.0455      0.001     31.984      0.000       0.043       0.048\n",
       "PlasmaGlucose             -0.0013      0.000     -5.033      0.000      -0.002      -0.001\n",
       "DiastolicBloodPressure     0.0040      0.000      8.541      0.000       0.003       0.005\n",
       "TricepsThickness           0.1345      0.012     10.776      0.000       0.110       0.159\n",
       "SerumInsulin               0.0097      0.000     24.563      0.000       0.009       0.010\n",
       "BMI                       -0.0468      0.003    -15.165      0.000      -0.053      -0.041\n",
       "DiabetesPedigree           0.0077      0.003      2.263      0.024       0.001       0.014\n",
       "Age                        0.0223      0.002     14.777      0.000       0.019       0.025\n",
       "==============================================================================\n",
       "Omnibus:                      426.145   Durbin-Watson:                   2.020\n",
       "Prob(Omnibus):                  0.000   Jarque-Bera (JB):              304.988\n",
       "Skew:                           0.408   Prob(JB):                     5.92e-67\n",
       "Kurtosis:                       2.382   Cond. No.                         228.\n",
       "==============================================================================\n",
       "\n",
       "Warnings:\n",
       "[1] Standard Errors assume that the covariance matrix of the errors is correctly specified.\n",
       "\"\"\""
      ]
     },
     "metadata": {},
     "output_type": "display_data"
    },
    {
     "data": {
      "image/png": "[encoded data removed]",
      "text/plain": [
       "<Figure size 432x288 with 1 Axes>"
      ]
     },
     "metadata": {},
     "output_type": "display_data"
    }
   ],
   "source": [
    "columns = tx.columns.tolist()\n",
    "columns.remove(TARGET)\n",
    "X_train, X_test, y_train, y_test = split_data(tx, columns, TARGET)\n",
    "summary, df_coef = get_var_estimates(target_name=TARGET, y=y_train, X=X_train, columns=COLUMN_NAMES)\n",
    "display(summary)\n",
    "ax = sns.barplot(y=\"Predictor\", x=\"Coef\", data=df_coef)"
   ]
  },
  {
   "cell_type": "markdown",
   "metadata": {},
   "source": [
    "# MODEL with ASSESSMENT"
   ]
  },
  {
   "cell_type": "code",
   "execution_count": 209,
   "metadata": {
    "scrolled": true
   },
   "outputs": [
    {
     "name": "stdout",
     "output_type": "stream",
     "text": [
      "Accuracy: 0.7803333333333333\n",
      "AUC: 0.855851534902234\n"
     ]
    }
   ],
   "source": [
    "# Set regularization hyperparameter\n",
    "reg = 0.05\n",
    "\n",
    "model = LogisticRegression(C=1/reg, solver=\"liblinear\").fit(X_train, y_train)\n",
    "\n",
    "# calculate accuracy\n",
    "y_hat = model.predict(X_test)\n",
    "acc = np.average(y_hat == y_test)\n",
    "print('Accuracy:', acc)\n",
    "\n",
    "# calculate AUC\n",
    "y_scores = model.predict_proba(X_test)\n",
    "auc = roc_auc_score(y_test,y_scores[:,1])\n",
    "print('AUC: ' + str(auc))"
   ]
  },
  {
   "cell_type": "markdown",
   "metadata": {},
   "source": [
    "## Use Cross Validation and Best Cutoff to Improve Fit\n",
    "Produces ROC and confusion matrix to assess accuracy of model on the validation set."
   ]
  },
  {
   "cell_type": "code",
   "execution_count": 222,
   "metadata": {},
   "outputs": [
    {
     "ename": "ValueError",
     "evalue": "Logistic Regression supports only penalties in ['l1', 'l2', 'elasticnet', 'none'], got l3.",
     "output_type": "error",
     "traceback": [
      "\u001b[1;31m---------------------------------------------------------------------------\u001b[0m",
      "\u001b[1;31mValueError\u001b[0m                                Traceback (most recent call last)",
      "\u001b[1;32m<ipython-input-222-bda9eae728dc>\u001b[0m in \u001b[0;36m<module>\u001b[1;34m\u001b[0m\n\u001b[0;32m     97\u001b[0m \u001b[1;33m\u001b[0m\u001b[0m\n\u001b[0;32m     98\u001b[0m \u001b[1;32mif\u001b[0m \u001b[0m__name__\u001b[0m \u001b[1;33m==\u001b[0m \u001b[1;34m'__main__'\u001b[0m\u001b[1;33m:\u001b[0m\u001b[1;33m\u001b[0m\u001b[1;33m\u001b[0m\u001b[0m\n\u001b[1;32m---> 99\u001b[1;33m     \u001b[0mfit_logit\u001b[0m\u001b[1;33m(\u001b[0m\u001b[0mX\u001b[0m\u001b[1;33m=\u001b[0m\u001b[0mX_train\u001b[0m\u001b[1;33m,\u001b[0m \u001b[0my\u001b[0m\u001b[1;33m=\u001b[0m\u001b[0my_train\u001b[0m\u001b[1;33m,\u001b[0m \u001b[0mnum_cv\u001b[0m\u001b[1;33m=\u001b[0m\u001b[1;36m5\u001b[0m\u001b[1;33m,\u001b[0m \u001b[0mto_csv\u001b[0m\u001b[1;33m=\u001b[0m\u001b[1;32mTrue\u001b[0m\u001b[1;33m)\u001b[0m\u001b[1;33m\u001b[0m\u001b[1;33m\u001b[0m\u001b[0m\n\u001b[0m",
      "\u001b[1;32m<ipython-input-222-bda9eae728dc>\u001b[0m in \u001b[0;36mfit_logit\u001b[1;34m(X, y, num_cv, to_csv)\u001b[0m\n\u001b[0;32m     31\u001b[0m         \u001b[1;31m# train Logit on training dataset\u001b[0m\u001b[1;33m\u001b[0m\u001b[1;33m\u001b[0m\u001b[1;33m\u001b[0m\u001b[0m\n\u001b[0;32m     32\u001b[0m         \u001b[0mlogit\u001b[0m \u001b[1;33m=\u001b[0m \u001b[0mLogisticRegression\u001b[0m\u001b[1;33m(\u001b[0m\u001b[0mpenalty\u001b[0m\u001b[1;33m=\u001b[0m\u001b[1;34m'l3'\u001b[0m\u001b[1;33m,\u001b[0m\u001b[0mdual\u001b[0m\u001b[1;33m=\u001b[0m\u001b[1;32mFalse\u001b[0m\u001b[1;33m,\u001b[0m\u001b[0mmax_iter\u001b[0m\u001b[1;33m=\u001b[0m\u001b[1;36m110\u001b[0m\u001b[1;33m,\u001b[0m \u001b[0msolver\u001b[0m\u001b[1;33m=\u001b[0m\u001b[1;34m'liblinear'\u001b[0m\u001b[1;33m)\u001b[0m \u001b[1;31m#lbfgs\u001b[0m\u001b[1;33m\u001b[0m\u001b[1;33m\u001b[0m\u001b[0m\n\u001b[1;32m---> 33\u001b[1;33m         \u001b[0mlogit\u001b[0m\u001b[1;33m.\u001b[0m\u001b[0mfit\u001b[0m\u001b[1;33m(\u001b[0m\u001b[0mtrain_X\u001b[0m\u001b[1;33m,\u001b[0m \u001b[0mtrain_y\u001b[0m\u001b[1;33m)\u001b[0m\u001b[1;33m\u001b[0m\u001b[1;33m\u001b[0m\u001b[0m\n\u001b[0m\u001b[0;32m     34\u001b[0m \u001b[1;33m\u001b[0m\u001b[0m\n\u001b[0;32m     35\u001b[0m         \u001b[1;31m# test Logit on test dataset\u001b[0m\u001b[1;33m\u001b[0m\u001b[1;33m\u001b[0m\u001b[1;33m\u001b[0m\u001b[0m\n",
      "\u001b[1;32m~\\.conda\\envs\\python37\\lib\\site-packages\\sklearn\\linear_model\\_logistic.py\u001b[0m in \u001b[0;36mfit\u001b[1;34m(self, X, y, sample_weight)\u001b[0m\n\u001b[0;32m   1486\u001b[0m         \u001b[0mThe\u001b[0m \u001b[0mSAGA\u001b[0m \u001b[0msolver\u001b[0m \u001b[0msupports\u001b[0m \u001b[0mboth\u001b[0m \u001b[0mfloat64\u001b[0m \u001b[1;32mand\u001b[0m \u001b[0mfloat32\u001b[0m \u001b[0mbit\u001b[0m \u001b[0marrays\u001b[0m\u001b[1;33m.\u001b[0m\u001b[1;33m\u001b[0m\u001b[1;33m\u001b[0m\u001b[0m\n\u001b[0;32m   1487\u001b[0m         \"\"\"\n\u001b[1;32m-> 1488\u001b[1;33m         \u001b[0msolver\u001b[0m \u001b[1;33m=\u001b[0m \u001b[0m_check_solver\u001b[0m\u001b[1;33m(\u001b[0m\u001b[0mself\u001b[0m\u001b[1;33m.\u001b[0m\u001b[0msolver\u001b[0m\u001b[1;33m,\u001b[0m \u001b[0mself\u001b[0m\u001b[1;33m.\u001b[0m\u001b[0mpenalty\u001b[0m\u001b[1;33m,\u001b[0m \u001b[0mself\u001b[0m\u001b[1;33m.\u001b[0m\u001b[0mdual\u001b[0m\u001b[1;33m)\u001b[0m\u001b[1;33m\u001b[0m\u001b[1;33m\u001b[0m\u001b[0m\n\u001b[0m\u001b[0;32m   1489\u001b[0m \u001b[1;33m\u001b[0m\u001b[0m\n\u001b[0;32m   1490\u001b[0m         \u001b[1;32mif\u001b[0m \u001b[1;32mnot\u001b[0m \u001b[0misinstance\u001b[0m\u001b[1;33m(\u001b[0m\u001b[0mself\u001b[0m\u001b[1;33m.\u001b[0m\u001b[0mC\u001b[0m\u001b[1;33m,\u001b[0m \u001b[0mnumbers\u001b[0m\u001b[1;33m.\u001b[0m\u001b[0mNumber\u001b[0m\u001b[1;33m)\u001b[0m \u001b[1;32mor\u001b[0m \u001b[0mself\u001b[0m\u001b[1;33m.\u001b[0m\u001b[0mC\u001b[0m \u001b[1;33m<\u001b[0m \u001b[1;36m0\u001b[0m\u001b[1;33m:\u001b[0m\u001b[1;33m\u001b[0m\u001b[1;33m\u001b[0m\u001b[0m\n",
      "\u001b[1;32m~\\.conda\\envs\\python37\\lib\\site-packages\\sklearn\\linear_model\\_logistic.py\u001b[0m in \u001b[0;36m_check_solver\u001b[1;34m(solver, penalty, dual)\u001b[0m\n\u001b[0;32m    439\u001b[0m     \u001b[1;32mif\u001b[0m \u001b[0mpenalty\u001b[0m \u001b[1;32mnot\u001b[0m \u001b[1;32min\u001b[0m \u001b[0mall_penalties\u001b[0m\u001b[1;33m:\u001b[0m\u001b[1;33m\u001b[0m\u001b[1;33m\u001b[0m\u001b[0m\n\u001b[0;32m    440\u001b[0m         raise ValueError(\"Logistic Regression supports only penalties in %s,\"\n\u001b[1;32m--> 441\u001b[1;33m                          \" got %s.\" % (all_penalties, penalty))\n\u001b[0m\u001b[0;32m    442\u001b[0m \u001b[1;33m\u001b[0m\u001b[0m\n\u001b[0;32m    443\u001b[0m     \u001b[1;32mif\u001b[0m \u001b[0msolver\u001b[0m \u001b[1;32mnot\u001b[0m \u001b[1;32min\u001b[0m \u001b[1;33m[\u001b[0m\u001b[1;34m'liblinear'\u001b[0m\u001b[1;33m,\u001b[0m \u001b[1;34m'saga'\u001b[0m\u001b[1;33m]\u001b[0m \u001b[1;32mand\u001b[0m \u001b[0mpenalty\u001b[0m \u001b[1;32mnot\u001b[0m \u001b[1;32min\u001b[0m \u001b[1;33m(\u001b[0m\u001b[1;34m'l2'\u001b[0m\u001b[1;33m,\u001b[0m \u001b[1;34m'none'\u001b[0m\u001b[1;33m)\u001b[0m\u001b[1;33m:\u001b[0m\u001b[1;33m\u001b[0m\u001b[1;33m\u001b[0m\u001b[0m\n",
      "\u001b[1;31mValueError\u001b[0m: Logistic Regression supports only penalties in ['l1', 'l2', 'elasticnet', 'none'], got l3."
     ]
    }
   ],
   "source": [
    "# Run logistic Regression with cross-validation and plot ROC curves\n",
    "# Logit can use categorical variaables. Append to cols and get new data set\n",
    "def fit_logit(X, y, num_cv=5, to_csv=False):\n",
    "    \"\"\"\n",
    "    Fit a model with Logistic Regression.\n",
    "    \"\"\"\n",
    "    #rand = np.random.RandomState(0)\n",
    "    cv = StratifiedKFold(n_splits=num_cv) # split into N folds /shuffle=True, random_state=rand\n",
    "    mean_tpr = 0.0\n",
    "    mean_fpr = np.linspace(0, 1, 100) # `linspace` returns evenly spaced numbers over a specified interval.\n",
    "    roc_kfolds = [] # store TPR and FPR for each iteration and plot to ROC curve\n",
    "    cm_folds = []\n",
    "    logit_actual = []\n",
    "    logit_prob = []\n",
    "    best_mean_cutoff = 0.0\n",
    "    best_mean_tpr = 0.0\n",
    "    best_mean_fpr = 0.0\n",
    "    predicted_data = []\n",
    "    tn=[]; fp=[]; fn=[]; tp=[];\n",
    "    \n",
    "    # For each cross-validation batch, fit model 80:20 split, plot ROC, and get cutoff\n",
    "    # train, test are of type <type 'numpy.ndarray'>\n",
    "    i = 0\n",
    "    for (train, test) in cv.split(X, y):\n",
    "\n",
    "        test_actual = y[test]\n",
    "        test_X = preprocessing.scale(X[test])\n",
    "        train_X = preprocessing.scale(X[train])\n",
    "        train_y = y[train]\n",
    "\n",
    "        # train Logit on training dataset\n",
    "        logit = LogisticRegression(penalty='l1',dual=False,max_iter=110, solver='liblinear') #lbfgs\n",
    "        logit.fit(train_X, train_y)\n",
    "\n",
    "        # test Logit on test dataset\n",
    "        # predict probability returns <type 'numpy.ndarray'> (n_samples, n_classes)\n",
    "        prob = logit.predict_proba(test_X)\n",
    "\n",
    "        # get predicted values: 1/0; default threshold/cutoff is 0.5\n",
    "        predicted = logit.predict(test_X)\n",
    "        train_predicted = logit.predict(train_X)\n",
    "\n",
    "        # Compute ROC curve\n",
    "        # fpr = false positive rate (1-specificity)\n",
    "        # tpr = true positive rate (sensitivity)\n",
    "        fpr, tpr, thresholds = roc_curve(test_actual, prob[:, 1]) # returns <type 'numpy.ndarray'> x 3\n",
    "        \n",
    "        # add mean Sensitivity\n",
    "        mean_tpr += interp(mean_fpr, fpr, tpr)\n",
    "        mean_tpr[0] = 0.0\n",
    "\n",
    "        logit_actual.extend(test_actual)\n",
    "        logit_prob.extend(prob)\n",
    "        best_tpr, best_fpr, best_cutoff, _tn, _fp, _fn, _tp = u.get_best_cutoff(actual=test_actual, prob=prob)\n",
    "        roc_kfolds.append([tpr, fpr])\n",
    "        best_mean_cutoff += best_cutoff\n",
    "        tn.append(_tn)\n",
    "        fp.append(_fp)\n",
    "        fn.append(_fn)\n",
    "        tp.append(_tp)\n",
    "        \n",
    "        print('Fold %d, TPR: %0.5f, TNR: %0.5f, Cutoff: %0.5f' % (i+1, best_tpr, 1-best_fpr, best_cutoff))\n",
    "    \n",
    "        # Collect test set into combined table\n",
    "        predicted_data.extend(u.combine(prob, test_X, test_actual, predicted))\n",
    "        \n",
    "        i += 1\n",
    "    #/for (train, test)...\n",
    "\n",
    "    best_mean_cutoff /= float(num_cv)\n",
    "    tneg = sum(tn)\n",
    "    fpos = sum(fp)\n",
    "    fneg = sum(fn)\n",
    "    tpos = sum(tp)\n",
    "    best_mean_tpr = tpos / (tpos+fneg)\n",
    "    best_mean_tnr = tneg / (tneg+fpos)\n",
    "    accuracy = (best_mean_tpr + best_mean_tnr) / 2\n",
    "    print('Means: TPR: %0.5f, TNR: %0.5f, Cutoff: %0.5f, Accuracy: %0.5f'%(best_mean_tpr, best_mean_tnr, best_mean_cutoff, accuracy))\n",
    "\n",
    "    # Display ROC Curve, output to CSV\n",
    "    u.show_roc(roc_kfolds, mean_tpr, mean_fpr, 'ROC Curves for Logit with K-fold Cross-validation', 2, OUTPUT_DIR+'logit-roc')\n",
    "\n",
    "    if to_csv:\n",
    "        u.output_cms(OUTPUT_DIR+'logit-cms', cm_folds, OUTPUT_DIR+'Logit_Test_Folds') # output to excel\n",
    "\n",
    "    # Display Confustion Matrix, output to PNG\n",
    "    cm = np.asarray( [[tneg,fpos],[fneg,tpos]] )\n",
    "    u.show_confusion_matrix(cm, ['0','1'], (6,6), 12, OUTPUT_DIR+'logit-best-tp-cm')\n",
    "    \n",
    "    # Output final dataset with predictions to CSV  \n",
    "    col_names = np.append(np.asarray(significant_features), np.asarray([TARGET, 'Prob_0', 'Prob_1', 'Predicted']))\n",
    "    df = pd.DataFrame(data=predicted_data, columns=col_names)\n",
    "    if to_csv:\n",
    "        df.to_csv(OUTPUT_DIR + 'logit-validation.csv')\n",
    "        \n",
    "    display(df.tail())\n",
    "    \n",
    "if __name__ == '__main__':\n",
    "    fit_logit(X=X_train, y=y_train, num_cv=5, to_csv=True)"
   ]
  },
  {
   "cell_type": "code",
   "execution_count": null,
   "metadata": {},
   "outputs": [],
   "source": []
  }
 ],
 "metadata": {
  "kernelspec": {
   "display_name": "Python 3",
   "language": "python",
   "name": "python3"
  },
  "language_info": {
   "codemirror_mode": {
    "name": "ipython",
    "version": 3
   },
   "file_extension": ".py",
   "mimetype": "text/x-python",
   "name": "python",
   "nbconvert_exporter": "python",
   "pygments_lexer": "ipython3",
   "version": "3.7.6"
  }
 },
 "nbformat": 4,
 "nbformat_minor": 2
}
